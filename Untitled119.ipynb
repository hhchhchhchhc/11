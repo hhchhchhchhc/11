{
 "cells": [
  {
   "cell_type": "code",
   "execution_count": 11,
   "id": "32c82f94",
   "metadata": {
    "scrolled": true
   },
   "outputs": [
    {
     "name": "stdout",
     "output_type": "stream",
     "text": [
      "Fetching HTML content from: https://weixin.sogou.com/weixin?type=2&query=1&ie=utf8&_sug_=n&_sug_type_=\n",
      "Fetching HTML content from: https://weixin.sogou.com/link?url=dn9a_-gY295K0Rci_xozVXfdMkSQTLW6cwJThYulHEtVjXrGTiVgS7LYde_fskJHGVG8Q_BXUw-IQOfR0117m1qXa8Fplpd9n-hlXCeU5M0M9s0YEkaC1hpmK-wdR_Q3-LODqg22J7kyYGnKwnvagn9-o-B0U48VxJ_Jt0p4m78bH20JQ2Jobq2CejTouif749FHTP0jLwEMQLE9fNZ-CdrsAkQ-9QF1fIuaoDmFBK6F_jUGxV77iz6qrT5ZBax7AIJ3WDt2Ik-TJmCU1UgHwQ..&type=2&query=1&token=C7F269766D7CB6B794928A1D7C834D959558520766BAEF71\n"
     ]
    }
   ],
   "source": [
    "import requests\n",
    "from collections import deque\n",
    "import time\n",
    "\n",
    "jina_key = 'jina_5cafa3d4518e41babfc50a25049f2a8dRrP_KYuisITWBtBkzm530x2jMwYP'\n",
    "\n",
    "def fetch_html(url):\n",
    "    headers = {\n",
    "        \"Authorization\": f\"Bearer {jina_key}\",  # Replace with your authorization information\n",
    "        \"Accept\": \"application/json\"\n",
    "    }\n",
    "    print(f\"Fetching HTML content from: {url}\")\n",
    "    jina_url = f\"https://r.jina.ai/{url}\"\n",
    "    response = requests.get(jina_url, headers=headers)\n",
    "    # Assuming the response contains the HTML content in the 'data' field\n",
    "    data = response.json().get('data', {})\n",
    "    content = data.get('content', '')\n",
    "    return content\n",
    "searchurl='https://weixin.sogou.com/weixin?type=2&query=1&ie=utf8&_sug_=n&_sug_type_='\n",
    "#'https://weixin.sogou.com/weixin?query=kaggle+grandmaster%E9%87%87%E8%AE%BF&hp=6&sut=6631&lkt=2%2C1723473824821%2C1723473829483&_sug_=y&sst0=1723473829588&oq=kaggle+grandm&stj0=0&stj1=0&stj=0%3B0%3B0%3B0&stj2=0&hp1=&_sug_type_=&s_from=input&ri=0&type=2&page=3&ie=utf8&w=01015002&dr=1'\n",
    "res=fetch_html(searchurl)\n",
    "\n",
    "import re\n",
    "# 正则表达式模式，用于匹配网页链接\n",
    "url_pattern = re.compile(r'https?://[^\\s]+')\n",
    "\n",
    "# 查找所有匹配的链接\n",
    "urls = url_pattern.findall(res)\n",
    "newurls=[]\n",
    "for url in urls:\n",
    "    if url.startswith('https://weixin.sogou.com/link?url='):\n",
    "        newurls.append(url.split(')')[0])\n",
    "\n",
    "contents=[]\n",
    "for url in newurls[:1]:contents.append(fetch_html(url))"
   ]
  },
  {
   "cell_type": "code",
   "execution_count": 12,
   "id": "c9322708",
   "metadata": {},
   "outputs": [
    {
     "data": {
      "text/plain": [
       "'*   [![Image 1](https://img01.sogoucdn.com/v2/thumb?appid=201147&url=https%3A%2F%2Fmmbiz.qpic.cn%2Fsz_mmbiz_jpg%2F2uSmXwkNd7I4wch9v2iaNaLYboOjb0adcBgG2eet0M7FYd8GJnXKoVjqia86GicocwkwZ4qJib6bmCJw5wEWyaNdMg%2F0%3Fwx_fmt%3Djpeg&sign=1da8710ead47bb622db70f3f4f12fbcf)](https://weixin.sogou.com/link?url=dn9a_-gY295K0Rci_xozVXfdMkSQTLW6cwJThYulHEtVjXrGTiVgS7LYde_fskJHGVG8Q_BXUw-IQOfR0117m1qXa8Fplpd9n-hlXCeU5M0M9s0YEkaC1hpmK-wdR_Q3-LODqg22J7kyYGnKwnvagn9-o-B0U48VxJ_Jt0p4m78bH20JQ2Jobq2CejTouif749FHTP0jLwEMQLE9fNZ-CdrsAkQ-9QF1fIuaoDmFBK6F_jUGxV77iz6qrT5ZBax7AIJ3WDt2Ik-TJmCU1UgHwQ..&type=2&query=1&token=C7F269766D7CB6B794928A1D7C834D959558520766BAEF71)\\n    \\n    ### [夫妻玩漂流_1_死_1_伤,官方通报!](https://weixin.sogou.com/link?url=dn9a_-gY295K0Rci_xozVXfdMkSQTLW6cwJThYulHEtVjXrGTiVgS7LYde_fskJHGVG8Q_BXUw-IQOfR0117m1qXa8Fplpd9n-hlXCeU5M0M9s0YEkaC1hpmK-wdR_Q3-LODqg22J7kyYGnKwnvagn9-o-B0U48VxJ_Jt0p4m78bH20JQ2Jobq2CejTouif749FHTP0jLwEMQLE9fNZ-CdrsAkQ-9QF1fIuaoDmFBK6F_jUGxV77iz6qrT5ZBax7AIJ3WDt2Ik-TJmCU1UgHwQ..&type=2&query=1&token=C7F269766D7CB6B794928A1D7C834D959558520766BAEF71)\\n    \\n    8月_1_2日,有网友发布视频称,江西省萍乡市武功山景区万龙峡漂流项目中一人不幸遇难.“武功山景区夫妻俩漂流_1_死_1_伤”相关话题...\\n    \\n    江苏交通广播网21分钟前\\n    \\n*   [![Image 2](https://img01.sogoucdn.com/v2/thumb?appid=201147&url=https%3A%2F%2Fmmbiz.qpic.cn%2Fmmbiz_jpg%2F1tRsGJ6Jk29MZwvbic2xkLIRYadXlbnqoaCpX29YAfZicFvtwGjYXRU5LvT45kGDmEqImIR3tNrMwD1TcEzpMBGg%2F0%3Fwx_fmt%3Djpeg&sign=90e0b4c454c38bfb6f5b406902eed892)](https://weixin.sogou.com/link?url=dn9a_-gY295K0Rci_xozVXfdMkSQTLW6cwJThYulHEtVjXrGTiVgS7LYde_fskJHGVG8Q_BXUw-IQOfR0117m1qXa8Fplpd9fzviFOGZuAFrL88fyLovnKT4pXAJh70mf6-40VHFWOqOP7gh-stPM8h5uhBHvkc-qHiZQuPaqEXFSV7a99pmJl9sj6ujot4ur4eWXoT06i5cKMIjLBAUkg_934pOUYy-XkF6jnTBPR7A-8sBuNORKfpwXZHybCuQl-czYXr9f9zP28temKTOwg..&type=2&query=1&token=C7F269766D7CB6B794928A1D7C834D959558520766BAEF71)\\n    \\n*   [![Image 3](https://img01.sogoucdn.com/v2/thumb?appid=201147&url=https%3A%2F%2Fmmbiz.qpic.cn%2Fsz_mmbiz_jpg%2F5r2fdOVlScpcyVicCIWobFcwicUPH3ZnB48hB535CiaHj0ZXO26KhFLbc4MuAgicMUf8oiaFaQMEUEvHuSsnKNibhmXg%2F0%3Fwx_fmt%3Djpeg&sign=389b89db18a9616328e1ac92887153fe)](https://weixin.sogou.com/link?url=dn9a_-gY295K0Rci_xozVXfdMkSQTLW6cwJThYulHEtVjXrGTiVgS7LYde_fskJHGVG8Q_BXUw-IQOfR0117m1qXa8Fplpd9NCePSjvCQgh9S8Yt6vKoMm6D6ImoV9jiO94nACMyf3s_ZhaYddUT7woVXJBOHWwieGw4oSNviR5QxMu0c1qavn9oPZLw6vm53dEZV8Vu3wJCjgUlzNsADoZJk-KZJkgFL3N63SLegE3nDPsgVDTwD_588pT1JWjXnHTpnHMubfqq3X8EKMKOIA..&type=2&query=1&token=C7F269766D7CB6B794928A1D7C834D959558520766BAEF71)\\n    \\n    ### [_1_人被查](https://weixin.sogou.com/link?url=dn9a_-gY295K0Rci_xozVXfdMkSQTLW6cwJThYulHEtVjXrGTiVgS7LYde_fskJHGVG8Q_BXUw-IQOfR0117m1qXa8Fplpd9NCePSjvCQgh9S8Yt6vKoMm6D6ImoV9jiO94nACMyf3s_ZhaYddUT7woVXJBOHWwieGw4oSNviR5QxMu0c1qavn9oPZLw6vm53dEZV8Vu3wJCjgUlzNsADoZJk-KZJkgFL3N63SLegE3nDPsgVDTwD_588pT1JWjXnHTpnHMubfqq3X8EKMKOIA..&type=2&query=1&token=C7F269766D7CB6B794928A1D7C834D959558520766BAEF71)\\n    \\n    2024年4月5日,截至20时,中央纪委国家监委网站受权发布信息:_1_人被查.审查调查·河北省唐山市副市长李建忠接受纪律审查和监...\\n    \\n    中央纪委国家监委网站2024-4-5\\n    \\n*   [![Image 4](https://img01.sogoucdn.com/v2/thumb?appid=201147&url=https%3A%2F%2Fmmbiz.qpic.cn%2Fsz_mmbiz_jpg%2FAGEvsMHEXSbJalwS7BW8hmmxSJ12VhJdxrCn7kK05qbGmn57F8BXZGhrRMxnibVHaVoT4WJoKwvnmBqpB1yKQCw%2F0%3Fwx_fmt%3Djpeg&sign=4c8c4e8b115fcd7a1b1ff7b11e8e0c46)](https://weixin.sogou.com/link?url=dn9a_-gY295K0Rci_xozVXfdMkSQTLW6cwJThYulHEtVjXrGTiVgS7LYde_fskJHGVG8Q_BXUw-IQOfR0117m1qXa8Fplpd9RGTLrqMz5vdRTx4juui0fN31CRepU7_60N-v9MFdlBHQkglw8adC9ydHUMCFdWd6GrCeXzJ_F0VuZEWyb439nrOSp0HtPKCpnznFelSA5qrcL7lzUQij1KZoGk1nhcY9bMcTBmn-ZWDZ95oVtVFKwTY5uDa1060QFrcbhJKn9hlj32-j2KiwUw..&type=2&query=1&token=C7F269766D7CB6B794928A1D7C834D959558520766BAEF71)\\n    \\n    ### [玉溪市_1_名干部接受审查调查](https://weixin.sogou.com/link?url=dn9a_-gY295K0Rci_xozVXfdMkSQTLW6cwJThYulHEtVjXrGTiVgS7LYde_fskJHGVG8Q_BXUw-IQOfR0117m1qXa8Fplpd9RGTLrqMz5vdRTx4juui0fN31CRepU7_60N-v9MFdlBHQkglw8adC9ydHUMCFdWd6GrCeXzJ_F0VuZEWyb439nrOSp0HtPKCpnznFelSA5qrcL7lzUQij1KZoGk1nhcY9bMcTBmn-ZWDZ95oVtVFKwTY5uDa1060QFrcbhJKn9hlj32-j2KiwUw..&type=2&query=1&token=C7F269766D7CB6B794928A1D7C834D959558520766BAEF71)\\n    \\n    权 威 发 布据玉溪市纪委监委消息:玉溪市中级人民法院法警支队支队长徐军涉嫌严重违纪违法,主动投案,目前正接受玉溪市纪委监...\\n    \\n    清风云南2024-4-11\\n    \\n*   [![Image 5](https://img01.sogoucdn.com/v2/thumb?appid=201147&url=https%3A%2F%2Fmmbiz.qpic.cn%2Fmmbiz_jpg%2FNeMRmBpUfWa8BMicWHCvNJiaEFV8ia095Bys41SO6R7OlnxmRfiaUcS1C91QdibXiaSzsKAzM3r0NzDswFwGa9hicMqWA%2F0%3Fwx_fmt%3Djpeg&sign=26b97cf4f7522f9a39c21169569d1a91)](https://weixin.sogou.com/link?url=dn9a_-gY295K0Rci_xozVXfdMkSQTLW6cwJThYulHEtVjXrGTiVgS7LYde_fskJHGVG8Q_BXUw-IQOfR0117m1qXa8Fplpd9zKSvFzlUAo-_T_YW_9ICrCuqmPSLuqejbe5wKyFAuU3wwyu1kdBl74aY-AgO9QFW_0f3dHj7_rQcRFtfwN9kn7h-uws2GtkmIlIX-eSBYYMjTcsZBr0ah8eofkDlYlngWQmewK9KHDkMkmWpAipZH_jhZ1n-BiFL4JooJ-UYjer0OK9DLfgmPA..&type=2&query=1&token=C7F269766D7CB6B794928A1D7C834D959558520766BAEF71)\\n    \\n*   [![Image 6](https://img01.sogoucdn.com/v2/thumb?appid=201147&url=https%3A%2F%2Fmmbiz.qpic.cn%2Fmmbiz_jpg%2Fyl6JkZAE3S9wstky7yiaEQ9T52mibtx35F1Yyyqia23EPUFHibu2TKN1JnibicYFibKJrn1iaZbcljhdwriavxxFnKnccGA%2F0%3Fwx_fmt%3Djpeg&sign=ca2d34878560a764619028a8a0eb5465)](https://weixin.sogou.com/link?url=dn9a_-gY295K0Rci_xozVXfdMkSQTLW6cwJThYulHEtVjXrGTiVgS7LYde_fskJHGVG8Q_BXUw-IQOfR0117m1qXa8Fplpd9atvXx11fQYQdod7usSRbX_KGAnwYFb_ezMaqSZVIZiwQ_-H6tyHp34eIn_HkN9liozdyBZ3-Ngc8ejQH3FQi6DLUVdcnFNNAZBUyjkUdIfG-YfbNE8FE817Dhvd57yvziIIl57xcbvkmUq0dlbbgJICD8BJI_pIIQWhEFesFVauTJmCU1UgHwQ..&type=2&query=1&token=C7F269766D7CB6B794928A1D7C834D959558520766BAEF71)\\n    \\n*   [![Image 7](https://img01.sogoucdn.com/v2/thumb?appid=201147&url=https%3A%2F%2Fmmbiz.qpic.cn%2Fmmbiz_jpg%2F3OEpTPib0kVic5tFNCzvszmIpzEA4DzdANCcHZoRaB5EPXIWulHf8cuuR2UTgt1mMtE3KFicqazpPC9Z4zVsjY4yw%2F0%3Fwx_fmt%3Djpeg&sign=f6c68746ce1ee5f53be3d55735c78a75)](https://weixin.sogou.com/link?url=dn9a_-gY295K0Rci_xozVXfdMkSQTLW6cwJThYulHEtVjXrGTiVgS7LYde_fskJHGVG8Q_BXUw-IQOfR0117m1qXa8Fplpd9NGFrobE71IQphFIj3mc9wnjBRjgvYstRlqOfvcBmQ5fE6W9J3XpAsuni8Fyncun4jS2rV2OV31vGNlgRQoh6WJ7dF985tJ2wG-HDufXovpY-66BUSJ6ZwJjCGUTjAJlEcNbnWxMsvDBEpNLzqz1V4QdtDUt-lQ_qQqdz0GiIIAZ5Nu7CnoSqqg..&type=2&query=1&token=C7F269766D7CB6B794928A1D7C834D959558520766BAEF71)\\n    \\n    ### [广东一地紧急提醒:封闭_1_个月!](https://weixin.sogou.com/link?url=dn9a_-gY295K0Rci_xozVXfdMkSQTLW6cwJThYulHEtVjXrGTiVgS7LYde_fskJHGVG8Q_BXUw-IQOfR0117m1qXa8Fplpd9NGFrobE71IQphFIj3mc9wnjBRjgvYstRlqOfvcBmQ5fE6W9J3XpAsuni8Fyncun4jS2rV2OV31vGNlgRQoh6WJ7dF985tJ2wG-HDufXovpY-66BUSJ6ZwJjCGUTjAJlEcNbnWxMsvDBEpNLzqz1V4QdtDUt-lQ_qQqdz0GiIIAZ5Nu7CnoSqqg..&type=2&query=1&token=C7F269766D7CB6B794928A1D7C834D959558520766BAEF71)\\n    \\n    S_1_1大潮高速公路往梅州方向K47+100处路堤边坡存在安全隐患,为确保通行安全,该处道路实施双向交通管制.往梅州方向车辆在新...\\n    \\n    南方都市报2024-5-2\\n    \\n*   [![Image 8](https://img01.sogoucdn.com/v2/thumb?appid=201147&url=https%3A%2F%2Fmmbiz.qpic.cn%2Fmmbiz_jpg%2FXTEsK8xsZk0jOzwoIab0CCyrskjt4Xv2RGdGRicnozOxibMY6KaDBA4CSzh2F3t8zUsJZWJKETicLD5uBrKAK3V1w%2F0%3Fwx_fmt%3Djpeg&sign=09395f959d4afd1d3c0ad61589a8e307)](https://weixin.sogou.com/link?url=dn9a_-gY295K0Rci_xozVXfdMkSQTLW6cwJThYulHEtVjXrGTiVgS7LYde_fskJHGVG8Q_BXUw-IQOfR0117m1qXa8Fplpd9vtTKvSFG3d4q492yA74HRGIuukQasuodd25_NrYNlkC1WrN6h95183XUgBilbxw_BEfWX9yYpFY5lgm4KzLS916QzrXjPN4z9vzvMhOoACrVzJwWY08AFdqR0oX62v5kEGlE80MrLszHtpKfGBlZvduY0fDnA6EZnr2dzwbxOZwGX_iHL9MadA..&type=2&query=1&token=C7F269766D7CB6B794928A1D7C834D959558520766BAEF71)\\n    \\n*   [![Image 9](https://img01.sogoucdn.com/v2/thumb?appid=201147&url=https%3A%2F%2Fmmbiz.qpic.cn%2Fsz_mmbiz_jpg%2F5r2fdOVlScpVeRqrRQmic0PeVicw19Q0b59DLibNATLkUV8Q3eBjC7UaL11r2iaCUibUKASBJzWG4VFIsSX9BAdmRuQ%2F0%3Fwx_fmt%3Djpeg&sign=d7e183eddd4122fdd21135e9b07e4838)](https://weixin.sogou.com/link?url=dn9a_-gY295K0Rci_xozVXfdMkSQTLW6cwJThYulHEtVjXrGTiVgS7LYde_fskJHGVG8Q_BXUw-IQOfR0117m1qXa8Fplpd9NCePSjvCQgh9S8Yt6vKoMm6D6ImoV9jiO94nACMyf3s_ZhaYddUT7_c7tHtj-kijKi7PapcStEVombGDVDMG8FkRI0Z30oMj0UEcBX-0_ZBZb_Z-WaUYNTHOhEg_eJ5Nk4jPDjHOry7QS-9ce7prIa557p-Bq-ZyMctswr1g9r1hWLv6O878UA..&type=2&query=1&token=C7F269766D7CB6B794928A1D7C834D959558520766BAEF71)\\n    \\n    ### [_1_人被查,_1_人被处分](https://weixin.sogou.com/link?url=dn9a_-gY295K0Rci_xozVXfdMkSQTLW6cwJThYulHEtVjXrGTiVgS7LYde_fskJHGVG8Q_BXUw-IQOfR0117m1qXa8Fplpd9NCePSjvCQgh9S8Yt6vKoMm6D6ImoV9jiO94nACMyf3s_ZhaYddUT7_c7tHtj-kijKi7PapcStEVombGDVDMG8FkRI0Z30oMj0UEcBX-0_ZBZb_Z-WaUYNTHOhEg_eJ5Nk4jPDjHOry7QS-9ce7prIa557p-Bq-ZyMctswr1g9r1hWLv6O878UA..&type=2&query=1&token=C7F269766D7CB6B794928A1D7C834D959558520766BAEF71)\\n    \\n    2024年4月_1_8日,截至20时,中央纪委国家监委网站受权发布信息:_1_人被查,_1_人被处分.审查调查·黑龙江省齐齐哈尔市人大常委会...\\n    \\n    中央纪委国家监委网站2024-4-18\\n    \\n*   [![Image 10](https://img01.sogoucdn.com/v2/thumb?appid=201147&url=https%3A%2F%2Fmmbiz.qpic.cn%2Fsz_mmbiz_jpg%2FZibeuu43K6eiajvQpTBN5ReXdl0H7kYjdg6GLWOQb8qJN4ic6Jj8LvL42ibK9VoWyGCMttanxFHiaPV9QicIXaInkibibQ%2F0%3Fwx_fmt%3Djpeg&sign=0bea50d1b0ff8f17fe9a88e4725b00bf)](https://weixin.sogou.com/link?url=dn9a_-gY295K0Rci_xozVXfdMkSQTLW6cwJThYulHEtVjXrGTiVgS7LYde_fskJHGVG8Q_BXUw-IQOfR0117m1qXa8Fplpd9wUD751Y3AEhNO-tXAqNSptiC1Geo_0sy_ir-zDJE0zT6JQNz6AFtB4kE7JU0-WIqRuu6h-VqP_aBiGaSKgg2NK7Mjp7VTaDvmj7YtHY6or9KREEtnyNKB9fUYQoa-18JbTxeijkbpjXIujZP_5lNSnmJAZC7oR_-wzJx5htvXZ_I3OTRHYU2og..&type=2&query=1&token=C7F269766D7CB6B794928A1D7C834D959558520766BAEF71)\\n    \\n    ### [_1_死2伤!西安凌晨通报](https://weixin.sogou.com/link?url=dn9a_-gY295K0Rci_xozVXfdMkSQTLW6cwJThYulHEtVjXrGTiVgS7LYde_fskJHGVG8Q_BXUw-IQOfR0117m1qXa8Fplpd9wUD751Y3AEhNO-tXAqNSptiC1Geo_0sy_ir-zDJE0zT6JQNz6AFtB4kE7JU0-WIqRuu6h-VqP_aBiGaSKgg2NK7Mjp7VTaDvmj7YtHY6or9KREEtnyNKB9fUYQoa-18JbTxeijkbpjXIujZP_5lNSnmJAZC7oR_-wzJx5htvXZ_I3OTRHYU2og..&type=2&query=1&token=C7F269766D7CB6B794928A1D7C834D959558520766BAEF71)\\n    \\n    据央视新闻客户端消息,西安市安全生产委员会办公室21日凌晨发布通报,西安地铁_1_0号线于2024年4月_1_8日23:50许,在进行试验路...\\n    \\n    中国新闻周刊2024-4-21\\n    \\n\\n1[2](https://weixin.sogou.com/weixin?query=1&_sug_type_=&_sug_=n&type=2&page=2&ie=utf8)[3](https://weixin.sogou.com/weixin?query=1&_sug_type_=&_sug_=n&type=2&page=3&ie=utf8)[4](https://weixin.sogou.com/weixin?query=1&_sug_type_=&_sug_=n&type=2&page=4&ie=utf8)[5](https://weixin.sogou.com/weixin?query=1&_sug_type_=&_sug_=n&type=2&page=5&ie=utf8)[6](https://weixin.sogou.com/weixin?query=1&_sug_type_=&_sug_=n&type=2&page=6&ie=utf8)[7](https://weixin.sogou.com/weixin?query=1&_sug_type_=&_sug_=n&type=2&page=7&ie=utf8)[8](https://weixin.sogou.com/weixin?query=1&_sug_type_=&_sug_=n&type=2&page=8&ie=utf8)[9](https://weixin.sogou.com/weixin?query=1&_sug_type_=&_sug_=n&type=2&page=9&ie=utf8)[10](https://weixin.sogou.com/weixin?query=1&_sug_type_=&_sug_=n&type=2&page=10&ie=utf8) [下一页](https://weixin.sogou.com/weixin?query=1&_sug_type_=&_sug_=n&type=2&page=2&ie=utf8)\\n\\n找到约30,037条结果'"
      ]
     },
     "execution_count": 12,
     "metadata": {},
     "output_type": "execute_result"
    }
   ],
   "source": [
    "res"
   ]
  },
  {
   "cell_type": "code",
   "execution_count": null,
   "id": "005c9c8c",
   "metadata": {},
   "outputs": [],
   "source": []
  },
  {
   "cell_type": "code",
   "execution_count": null,
   "id": "265d484a",
   "metadata": {},
   "outputs": [],
   "source": [
    "https://mp.weixin.qq.com/s/W0mfVtkz5hQXRAmhZpStGg"
   ]
  },
  {
   "cell_type": "code",
   "execution_count": 58,
   "id": "a7bcc752",
   "metadata": {
    "scrolled": true
   },
   "outputs": [
    {
     "name": "stdout",
     "output_type": "stream",
     "text": [
      "Redirected URL: https://weixin.sogou.com/antispider/?from=%2Flink%3Furl%3Ddn9a_-gY295K0Rci_xozVXfdMkSQTLW6cwJThYulHEtVjXrGTiVgS7LYde_fskJHU6o_DgxUm9uIQOfR0117m1qXa8Fplpd9RGTLrqMz5vdRTx4juui0fN31CRepU7_60N-v9MFdlBHQkglw8adC99jnwxol_hrCO3xIdKYPiPGPc8mj9mqnXOVlm9KXdF1AATQQIe9pgZJgJYPaQl6PL310dJBLdvvty2nHNpwgYzT1o5hrKVXlrXOYHoW-itFITS29cGHQr7V6VKrzu_4XKA..%26type%3D2%26query%3D1%26token%3DC668321856FCB2F0D1D7CD546D6099C1D2ADB3C566BABA76\n"
     ]
    }
   ],
   "source": []
  },
  {
   "cell_type": "code",
   "execution_count": null,
   "id": "8b52d00d",
   "metadata": {},
   "outputs": [],
   "source": [
    "https://weixin.sogou.com/weixin?type=2&query=1&ie=utf8&_sug_=n&_sug_type_=&s_from=input&w=01019900&sut=2476&sst0=1723477937391&lkt=2%2C1723477934914%2C1723477934929"
   ]
  },
  {
   "cell_type": "code",
   "execution_count": 9,
   "id": "fd0b1060",
   "metadata": {},
   "outputs": [],
   "source": [
    "\"\"\"\n",
    "import pymongo\n",
    "# 创建MangoDB连接\n",
    "try:\n",
    "    # 创建MongoClient对象 建立和MongoDB的连接\n",
    "    client = pymongo.MongoClient('localhost', 27017)\n",
    "    # 指定数据库名字\n",
    "    db = client['db_pachong']\n",
    "    # 指定集合的名称\n",
    "    collec = db.yiliao\n",
    "except Exception as e:\n",
    "    print(e)\"\"\"\n",
    "\n",
    "# 页面请求\n",
    "import os\n",
    "import re\n",
    "\n",
    "import requests\n",
    "# 数据提取\n",
    "from bs4 import BeautifulSoup\n",
    "from lxml import etree\n",
    "# 数据存储\n",
    "import csv\n",
    "# 打开文件，避免空行\n",
    "import codecs\n",
    "# 设置爬取的随机延迟\n",
    "import time\n",
    "import random\n",
    "\n",
    "#from day02.requests_xundaili import down\n",
    "\n",
    "\n",
    "# 通过函数展示注意操作步骤\n",
    "# 设定UA\n",
    "def get_ua():\n",
    "    headers = {\n",
    "        'User-Agent': 'Mozilla/5.0 (compatible; WOW64; MSIE 10.0; Windows NT 6.2)'\n",
    "    }\n",
    "    return headers\n",
    "\n",
    "\n",
    "# 获取\n",
    "def parse_album_list(url):\n",
    "    response = requests.get(url, headers=get_ua())\n",
    "    # response = down(url=url)\n",
    "    soup = BeautifulSoup(response.text, 'lxml')\n",
    "    # 提取相册列表（ul有多个class 使用.ml.mla.cl表示）\n",
    "    ls = soup.select('div.txt-box')\n",
    "    print(f'album len:{len(ls)}')\n",
    "    for each in ls:\n",
    "        title = each.select_one('h3 a').get_text()\n",
    "        print(\"title:\",title)\n",
    "        album_url = each.select_one('h3 a').attrs['href']\n",
    "        # 未解决编码问题 TODO\n",
    "        print(\"album_url:\",album_url)\n",
    "        abstract = each.select_one('p').get_text()\n",
    "        print(\"abstract:\",abstract)\n",
    "\n",
    "        source = each.select_one('div.s-p a.account').get_text()\n",
    "        print(\"source:\", source)\n",
    "        pub_time = each.select_one('span.s2 script').get_text()\n",
    "        print(\"pub_time:\", pub_time)\n",
    "        # 使用re获取时间戳\n",
    "        pub_time = re.findall(r'(\\d+)', pub_time)[0]\n",
    "        print(re.findall(r'(\\d+)', pub_time)[0])\n",
    "        # 使用time 时间戳转换\n",
    "\n",
    "        timeArray = time.localtime(int(pub_time))\n",
    "        otherStyleTime = time.strftime(\"%Y-%m-%d %H:%M:%S\", timeArray)\n",
    "        print(otherStyleTime)\n",
    "        # # 抛弃英文分类\n",
    "        # if \"html\" in album_url:\n",
    "        #     print(\"+\" * 30)\n",
    "\n",
    "\n",
    "url=\"https://weixin.sogou.com/weixin?type=2&query=python&ie=utf8&s_from=input&_sug_=n&_sug_type_=1&w=01015002&oq=&ri=1&sourceid=sugg&sut=0&sst0=1581585228962&lkt=0%2C0%2C0&p=40040108\""
   ]
  },
  {
   "cell_type": "code",
   "execution_count": 4,
   "id": "714915ad",
   "metadata": {
    "scrolled": true
   },
   "outputs": [
    {
     "name": "stdout",
     "output_type": "stream",
     "text": [
      "Error: ('WechatSogouAPI get img', <Response [403]>)\n"
     ]
    }
   ],
   "source": [
    "import wechatsogou\n",
    "from wechatsogou.identify_image import unlock_sogou_callback_example\n",
    "\n",
    "# Initialize the WechatSogouAPI with increased captcha_break_time\n",
    "ws_api = wechatsogou.WechatSogouAPI(captcha_break_time=3)\n",
    "\n",
    "# Define a callback function for CAPTCHA handling\n",
    "def my_unlock_callback(url, session, resp, img, identify_image_callback):\n",
    "    # Use the example callback provided by wechatsogou\n",
    "    return unlock_sogou_callback_example(url, session, resp, img, identify_image_callback)\n",
    "\n",
    "# Search for articles related to 南京航空航天大学\n",
    "try:\n",
    "    articles = ws_api.search_article('南京航空航天大学', unlock_callback=my_unlock_callback)\n",
    "    # Iterate over the generator and print each article\n",
    "    for article in articles:\n",
    "        print(article)\n",
    "except wechatsogou.exceptions.WechatSogouRequestsException as e:\n",
    "    print(f\"Error: {e}\")\n"
   ]
  },
  {
   "cell_type": "code",
   "execution_count": 5,
   "id": "a35fe949",
   "metadata": {},
   "outputs": [],
   "source": [
    "url=  'http://weixin.iszhouhua.com/article/detail?url=https%3A%2F%2Fmp.weixin.qq.com%2Fs%3Fsrc%3D11%26timestamp%3D1631460036%26ver%3D3310%26signature%3Dv%2AUCSY9AxXThYDWPNKzJCESO0DE4IMaewMyINQq4-3Z44K1BIJFqQA5TdX92Ly9jyHNT4g1pP7xweawlKer2chuXpa6q%2AKqTtiP4LIFwGnioKiKd7nQxTr7GeTmomw0F%26new%3D1' "
   ]
  },
  {
   "cell_type": "code",
   "execution_count": 10,
   "id": "8f4dde49",
   "metadata": {},
   "outputs": [
    {
     "ename": "SSLError",
     "evalue": "HTTPSConnectionPool(host='weixin.iszhouhua.com', port=443): Max retries exceeded with url: /article/search?keyword=%E5%8E%9F%E5%88%9B&page=1 (Caused by SSLError(CertificateError(\"hostname 'weixin.iszhouhua.com' doesn't match either of 'iszhouhua.com', 'www.iszhouhua.com'\")))",
     "output_type": "error",
     "traceback": [
      "\u001b[1;31m---------------------------------------------------------------------------\u001b[0m",
      "\u001b[1;31mCertificateError\u001b[0m                          Traceback (most recent call last)",
      "File \u001b[1;32mC:\\ProgramData\\anaconda3\\Lib\\site-packages\\urllib3\\connectionpool.py:711\u001b[0m, in \u001b[0;36mHTTPConnectionPool.urlopen\u001b[1;34m(self, method, url, body, headers, retries, redirect, assert_same_host, timeout, pool_timeout, release_conn, chunked, body_pos, **response_kw)\u001b[0m\n\u001b[0;32m    710\u001b[0m \u001b[38;5;28;01mif\u001b[39;00m is_new_proxy_conn \u001b[38;5;129;01mand\u001b[39;00m http_tunnel_required:\n\u001b[1;32m--> 711\u001b[0m     \u001b[38;5;28mself\u001b[39m\u001b[38;5;241m.\u001b[39m_prepare_proxy(conn)\n\u001b[0;32m    713\u001b[0m \u001b[38;5;66;03m# Make the request on the httplib connection object.\u001b[39;00m\n",
      "File \u001b[1;32mC:\\ProgramData\\anaconda3\\Lib\\site-packages\\urllib3\\connectionpool.py:1007\u001b[0m, in \u001b[0;36mHTTPSConnectionPool._prepare_proxy\u001b[1;34m(self, conn)\u001b[0m\n\u001b[0;32m   1005\u001b[0m     conn\u001b[38;5;241m.\u001b[39mtls_in_tls_required \u001b[38;5;241m=\u001b[39m \u001b[38;5;28;01mTrue\u001b[39;00m\n\u001b[1;32m-> 1007\u001b[0m conn\u001b[38;5;241m.\u001b[39mconnect()\n",
      "File \u001b[1;32mC:\\ProgramData\\anaconda3\\Lib\\site-packages\\urllib3\\connection.py:472\u001b[0m, in \u001b[0;36mHTTPSConnection.connect\u001b[1;34m(self)\u001b[0m\n\u001b[0;32m    463\u001b[0m         warnings\u001b[38;5;241m.\u001b[39mwarn(\n\u001b[0;32m    464\u001b[0m             (\n\u001b[0;32m    465\u001b[0m                 \u001b[38;5;124m\"\u001b[39m\u001b[38;5;124mCertificate for \u001b[39m\u001b[38;5;132;01m{0}\u001b[39;00m\u001b[38;5;124m has no `subjectAltName`, falling back to check for a \u001b[39m\u001b[38;5;124m\"\u001b[39m\n\u001b[1;32m   (...)\u001b[0m\n\u001b[0;32m    470\u001b[0m             SubjectAltNameWarning,\n\u001b[0;32m    471\u001b[0m         )\n\u001b[1;32m--> 472\u001b[0m     _match_hostname(cert, \u001b[38;5;28mself\u001b[39m\u001b[38;5;241m.\u001b[39massert_hostname \u001b[38;5;129;01mor\u001b[39;00m server_hostname)\n\u001b[0;32m    474\u001b[0m \u001b[38;5;28mself\u001b[39m\u001b[38;5;241m.\u001b[39mis_verified \u001b[38;5;241m=\u001b[39m (\n\u001b[0;32m    475\u001b[0m     context\u001b[38;5;241m.\u001b[39mverify_mode \u001b[38;5;241m==\u001b[39m ssl\u001b[38;5;241m.\u001b[39mCERT_REQUIRED\n\u001b[0;32m    476\u001b[0m     \u001b[38;5;129;01mor\u001b[39;00m \u001b[38;5;28mself\u001b[39m\u001b[38;5;241m.\u001b[39massert_fingerprint \u001b[38;5;129;01mis\u001b[39;00m \u001b[38;5;129;01mnot\u001b[39;00m \u001b[38;5;28;01mNone\u001b[39;00m\n\u001b[0;32m    477\u001b[0m )\n",
      "File \u001b[1;32mC:\\ProgramData\\anaconda3\\Lib\\site-packages\\urllib3\\connection.py:545\u001b[0m, in \u001b[0;36m_match_hostname\u001b[1;34m(cert, asserted_hostname)\u001b[0m\n\u001b[0;32m    544\u001b[0m \u001b[38;5;28;01mtry\u001b[39;00m:\n\u001b[1;32m--> 545\u001b[0m     match_hostname(cert, asserted_hostname)\n\u001b[0;32m    546\u001b[0m \u001b[38;5;28;01mexcept\u001b[39;00m CertificateError \u001b[38;5;28;01mas\u001b[39;00m e:\n",
      "File \u001b[1;32mC:\\ProgramData\\anaconda3\\Lib\\site-packages\\urllib3\\util\\ssl_match_hostname.py:150\u001b[0m, in \u001b[0;36mmatch_hostname\u001b[1;34m(cert, hostname)\u001b[0m\n\u001b[0;32m    149\u001b[0m \u001b[38;5;28;01mif\u001b[39;00m \u001b[38;5;28mlen\u001b[39m(dnsnames) \u001b[38;5;241m>\u001b[39m \u001b[38;5;241m1\u001b[39m:\n\u001b[1;32m--> 150\u001b[0m     \u001b[38;5;28;01mraise\u001b[39;00m CertificateError(\n\u001b[0;32m    151\u001b[0m         \u001b[38;5;124m\"\u001b[39m\u001b[38;5;124mhostname \u001b[39m\u001b[38;5;132;01m%r\u001b[39;00m\u001b[38;5;124m \u001b[39m\u001b[38;5;124m\"\u001b[39m\n\u001b[0;32m    152\u001b[0m         \u001b[38;5;124m\"\u001b[39m\u001b[38;5;124mdoesn\u001b[39m\u001b[38;5;124m'\u001b[39m\u001b[38;5;124mt match either of \u001b[39m\u001b[38;5;132;01m%s\u001b[39;00m\u001b[38;5;124m\"\u001b[39m \u001b[38;5;241m%\u001b[39m (hostname, \u001b[38;5;124m\"\u001b[39m\u001b[38;5;124m, \u001b[39m\u001b[38;5;124m\"\u001b[39m\u001b[38;5;241m.\u001b[39mjoin(\u001b[38;5;28mmap\u001b[39m(\u001b[38;5;28mrepr\u001b[39m, dnsnames)))\n\u001b[0;32m    153\u001b[0m     )\n\u001b[0;32m    154\u001b[0m \u001b[38;5;28;01melif\u001b[39;00m \u001b[38;5;28mlen\u001b[39m(dnsnames) \u001b[38;5;241m==\u001b[39m \u001b[38;5;241m1\u001b[39m:\n",
      "\u001b[1;31mCertificateError\u001b[0m: hostname 'weixin.iszhouhua.com' doesn't match either of 'iszhouhua.com', 'www.iszhouhua.com'",
      "\nDuring handling of the above exception, another exception occurred:\n",
      "\u001b[1;31mMaxRetryError\u001b[0m                             Traceback (most recent call last)",
      "File \u001b[1;32mC:\\ProgramData\\anaconda3\\Lib\\site-packages\\requests\\adapters.py:667\u001b[0m, in \u001b[0;36mHTTPAdapter.send\u001b[1;34m(self, request, stream, timeout, verify, cert, proxies)\u001b[0m\n\u001b[0;32m    666\u001b[0m \u001b[38;5;28;01mtry\u001b[39;00m:\n\u001b[1;32m--> 667\u001b[0m     resp \u001b[38;5;241m=\u001b[39m conn\u001b[38;5;241m.\u001b[39murlopen(\n\u001b[0;32m    668\u001b[0m         method\u001b[38;5;241m=\u001b[39mrequest\u001b[38;5;241m.\u001b[39mmethod,\n\u001b[0;32m    669\u001b[0m         url\u001b[38;5;241m=\u001b[39murl,\n\u001b[0;32m    670\u001b[0m         body\u001b[38;5;241m=\u001b[39mrequest\u001b[38;5;241m.\u001b[39mbody,\n\u001b[0;32m    671\u001b[0m         headers\u001b[38;5;241m=\u001b[39mrequest\u001b[38;5;241m.\u001b[39mheaders,\n\u001b[0;32m    672\u001b[0m         redirect\u001b[38;5;241m=\u001b[39m\u001b[38;5;28;01mFalse\u001b[39;00m,\n\u001b[0;32m    673\u001b[0m         assert_same_host\u001b[38;5;241m=\u001b[39m\u001b[38;5;28;01mFalse\u001b[39;00m,\n\u001b[0;32m    674\u001b[0m         preload_content\u001b[38;5;241m=\u001b[39m\u001b[38;5;28;01mFalse\u001b[39;00m,\n\u001b[0;32m    675\u001b[0m         decode_content\u001b[38;5;241m=\u001b[39m\u001b[38;5;28;01mFalse\u001b[39;00m,\n\u001b[0;32m    676\u001b[0m         retries\u001b[38;5;241m=\u001b[39m\u001b[38;5;28mself\u001b[39m\u001b[38;5;241m.\u001b[39mmax_retries,\n\u001b[0;32m    677\u001b[0m         timeout\u001b[38;5;241m=\u001b[39mtimeout,\n\u001b[0;32m    678\u001b[0m         chunked\u001b[38;5;241m=\u001b[39mchunked,\n\u001b[0;32m    679\u001b[0m     )\n\u001b[0;32m    681\u001b[0m \u001b[38;5;28;01mexcept\u001b[39;00m (ProtocolError, \u001b[38;5;167;01mOSError\u001b[39;00m) \u001b[38;5;28;01mas\u001b[39;00m err:\n",
      "File \u001b[1;32mC:\\ProgramData\\anaconda3\\Lib\\site-packages\\urllib3\\connectionpool.py:798\u001b[0m, in \u001b[0;36mHTTPConnectionPool.urlopen\u001b[1;34m(self, method, url, body, headers, retries, redirect, assert_same_host, timeout, pool_timeout, release_conn, chunked, body_pos, **response_kw)\u001b[0m\n\u001b[0;32m    796\u001b[0m     e \u001b[38;5;241m=\u001b[39m ProtocolError(\u001b[38;5;124m\"\u001b[39m\u001b[38;5;124mConnection aborted.\u001b[39m\u001b[38;5;124m\"\u001b[39m, e)\n\u001b[1;32m--> 798\u001b[0m retries \u001b[38;5;241m=\u001b[39m retries\u001b[38;5;241m.\u001b[39mincrement(\n\u001b[0;32m    799\u001b[0m     method, url, error\u001b[38;5;241m=\u001b[39me, _pool\u001b[38;5;241m=\u001b[39m\u001b[38;5;28mself\u001b[39m, _stacktrace\u001b[38;5;241m=\u001b[39msys\u001b[38;5;241m.\u001b[39mexc_info()[\u001b[38;5;241m2\u001b[39m]\n\u001b[0;32m    800\u001b[0m )\n\u001b[0;32m    801\u001b[0m retries\u001b[38;5;241m.\u001b[39msleep()\n",
      "File \u001b[1;32mC:\\ProgramData\\anaconda3\\Lib\\site-packages\\urllib3\\util\\retry.py:592\u001b[0m, in \u001b[0;36mRetry.increment\u001b[1;34m(self, method, url, response, error, _pool, _stacktrace)\u001b[0m\n\u001b[0;32m    591\u001b[0m \u001b[38;5;28;01mif\u001b[39;00m new_retry\u001b[38;5;241m.\u001b[39mis_exhausted():\n\u001b[1;32m--> 592\u001b[0m     \u001b[38;5;28;01mraise\u001b[39;00m MaxRetryError(_pool, url, error \u001b[38;5;129;01mor\u001b[39;00m ResponseError(cause))\n\u001b[0;32m    594\u001b[0m log\u001b[38;5;241m.\u001b[39mdebug(\u001b[38;5;124m\"\u001b[39m\u001b[38;5;124mIncremented Retry for (url=\u001b[39m\u001b[38;5;124m'\u001b[39m\u001b[38;5;132;01m%s\u001b[39;00m\u001b[38;5;124m'\u001b[39m\u001b[38;5;124m): \u001b[39m\u001b[38;5;132;01m%r\u001b[39;00m\u001b[38;5;124m\"\u001b[39m, url, new_retry)\n",
      "\u001b[1;31mMaxRetryError\u001b[0m: HTTPSConnectionPool(host='weixin.iszhouhua.com', port=443): Max retries exceeded with url: /article/search?keyword=%E5%8E%9F%E5%88%9B&page=1 (Caused by SSLError(CertificateError(\"hostname 'weixin.iszhouhua.com' doesn't match either of 'iszhouhua.com', 'www.iszhouhua.com'\")))",
      "\nDuring handling of the above exception, another exception occurred:\n",
      "\u001b[1;31mSSLError\u001b[0m                                  Traceback (most recent call last)",
      "Cell \u001b[1;32mIn[10], line 12\u001b[0m\n\u001b[0;32m      4\u001b[0m params \u001b[38;5;241m=\u001b[39m {\n\u001b[0;32m      5\u001b[0m     \u001b[38;5;124m'\u001b[39m\u001b[38;5;124mkeyword\u001b[39m\u001b[38;5;124m'\u001b[39m: \u001b[38;5;124m'\u001b[39m\u001b[38;5;124m原创\u001b[39m\u001b[38;5;124m'\u001b[39m,\n\u001b[0;32m      6\u001b[0m     \u001b[38;5;124m'\u001b[39m\u001b[38;5;124mpage\u001b[39m\u001b[38;5;124m'\u001b[39m: \u001b[38;5;241m1\u001b[39m\n\u001b[0;32m      7\u001b[0m }\n\u001b[0;32m      8\u001b[0m headers \u001b[38;5;241m=\u001b[39m {\n\u001b[0;32m      9\u001b[0m     \u001b[38;5;124m'\u001b[39m\u001b[38;5;124maccept\u001b[39m\u001b[38;5;124m'\u001b[39m: \u001b[38;5;124m'\u001b[39m\u001b[38;5;124mapplication/json\u001b[39m\u001b[38;5;124m'\u001b[39m\n\u001b[0;32m     10\u001b[0m }\n\u001b[1;32m---> 12\u001b[0m response \u001b[38;5;241m=\u001b[39m requests\u001b[38;5;241m.\u001b[39mget(url, params\u001b[38;5;241m=\u001b[39mparams, headers\u001b[38;5;241m=\u001b[39mheaders)\n\u001b[0;32m     14\u001b[0m \u001b[38;5;66;03m# Print the response (for demonstration purposes)\u001b[39;00m\n\u001b[0;32m     15\u001b[0m \u001b[38;5;28mprint\u001b[39m(response\u001b[38;5;241m.\u001b[39mjson())\n",
      "File \u001b[1;32mC:\\ProgramData\\anaconda3\\Lib\\site-packages\\requests\\api.py:73\u001b[0m, in \u001b[0;36mget\u001b[1;34m(url, params, **kwargs)\u001b[0m\n\u001b[0;32m     62\u001b[0m \u001b[38;5;28;01mdef\u001b[39;00m \u001b[38;5;21mget\u001b[39m(url, params\u001b[38;5;241m=\u001b[39m\u001b[38;5;28;01mNone\u001b[39;00m, \u001b[38;5;241m*\u001b[39m\u001b[38;5;241m*\u001b[39mkwargs):\n\u001b[0;32m     63\u001b[0m \u001b[38;5;250m    \u001b[39m\u001b[38;5;124mr\u001b[39m\u001b[38;5;124;03m\"\"\"Sends a GET request.\u001b[39;00m\n\u001b[0;32m     64\u001b[0m \n\u001b[0;32m     65\u001b[0m \u001b[38;5;124;03m    :param url: URL for the new :class:`Request` object.\u001b[39;00m\n\u001b[1;32m   (...)\u001b[0m\n\u001b[0;32m     70\u001b[0m \u001b[38;5;124;03m    :rtype: requests.Response\u001b[39;00m\n\u001b[0;32m     71\u001b[0m \u001b[38;5;124;03m    \"\"\"\u001b[39;00m\n\u001b[1;32m---> 73\u001b[0m     \u001b[38;5;28;01mreturn\u001b[39;00m request(\u001b[38;5;124m\"\u001b[39m\u001b[38;5;124mget\u001b[39m\u001b[38;5;124m\"\u001b[39m, url, params\u001b[38;5;241m=\u001b[39mparams, \u001b[38;5;241m*\u001b[39m\u001b[38;5;241m*\u001b[39mkwargs)\n",
      "File \u001b[1;32mC:\\ProgramData\\anaconda3\\Lib\\site-packages\\requests\\api.py:59\u001b[0m, in \u001b[0;36mrequest\u001b[1;34m(method, url, **kwargs)\u001b[0m\n\u001b[0;32m     55\u001b[0m \u001b[38;5;66;03m# By using the 'with' statement we are sure the session is closed, thus we\u001b[39;00m\n\u001b[0;32m     56\u001b[0m \u001b[38;5;66;03m# avoid leaving sockets open which can trigger a ResourceWarning in some\u001b[39;00m\n\u001b[0;32m     57\u001b[0m \u001b[38;5;66;03m# cases, and look like a memory leak in others.\u001b[39;00m\n\u001b[0;32m     58\u001b[0m \u001b[38;5;28;01mwith\u001b[39;00m sessions\u001b[38;5;241m.\u001b[39mSession() \u001b[38;5;28;01mas\u001b[39;00m session:\n\u001b[1;32m---> 59\u001b[0m     \u001b[38;5;28;01mreturn\u001b[39;00m session\u001b[38;5;241m.\u001b[39mrequest(method\u001b[38;5;241m=\u001b[39mmethod, url\u001b[38;5;241m=\u001b[39murl, \u001b[38;5;241m*\u001b[39m\u001b[38;5;241m*\u001b[39mkwargs)\n",
      "File \u001b[1;32mC:\\ProgramData\\anaconda3\\Lib\\site-packages\\requests\\sessions.py:589\u001b[0m, in \u001b[0;36mSession.request\u001b[1;34m(self, method, url, params, data, headers, cookies, files, auth, timeout, allow_redirects, proxies, hooks, stream, verify, cert, json)\u001b[0m\n\u001b[0;32m    584\u001b[0m send_kwargs \u001b[38;5;241m=\u001b[39m {\n\u001b[0;32m    585\u001b[0m     \u001b[38;5;124m\"\u001b[39m\u001b[38;5;124mtimeout\u001b[39m\u001b[38;5;124m\"\u001b[39m: timeout,\n\u001b[0;32m    586\u001b[0m     \u001b[38;5;124m\"\u001b[39m\u001b[38;5;124mallow_redirects\u001b[39m\u001b[38;5;124m\"\u001b[39m: allow_redirects,\n\u001b[0;32m    587\u001b[0m }\n\u001b[0;32m    588\u001b[0m send_kwargs\u001b[38;5;241m.\u001b[39mupdate(settings)\n\u001b[1;32m--> 589\u001b[0m resp \u001b[38;5;241m=\u001b[39m \u001b[38;5;28mself\u001b[39m\u001b[38;5;241m.\u001b[39msend(prep, \u001b[38;5;241m*\u001b[39m\u001b[38;5;241m*\u001b[39msend_kwargs)\n\u001b[0;32m    591\u001b[0m \u001b[38;5;28;01mreturn\u001b[39;00m resp\n",
      "File \u001b[1;32mC:\\ProgramData\\anaconda3\\Lib\\site-packages\\requests\\sessions.py:724\u001b[0m, in \u001b[0;36mSession.send\u001b[1;34m(self, request, **kwargs)\u001b[0m\n\u001b[0;32m    721\u001b[0m \u001b[38;5;28;01mif\u001b[39;00m allow_redirects:\n\u001b[0;32m    722\u001b[0m     \u001b[38;5;66;03m# Redirect resolving generator.\u001b[39;00m\n\u001b[0;32m    723\u001b[0m     gen \u001b[38;5;241m=\u001b[39m \u001b[38;5;28mself\u001b[39m\u001b[38;5;241m.\u001b[39mresolve_redirects(r, request, \u001b[38;5;241m*\u001b[39m\u001b[38;5;241m*\u001b[39mkwargs)\n\u001b[1;32m--> 724\u001b[0m     history \u001b[38;5;241m=\u001b[39m [resp \u001b[38;5;28;01mfor\u001b[39;00m resp \u001b[38;5;129;01min\u001b[39;00m gen]\n\u001b[0;32m    725\u001b[0m \u001b[38;5;28;01melse\u001b[39;00m:\n\u001b[0;32m    726\u001b[0m     history \u001b[38;5;241m=\u001b[39m []\n",
      "File \u001b[1;32mC:\\ProgramData\\anaconda3\\Lib\\site-packages\\requests\\sessions.py:724\u001b[0m, in \u001b[0;36m<listcomp>\u001b[1;34m(.0)\u001b[0m\n\u001b[0;32m    721\u001b[0m \u001b[38;5;28;01mif\u001b[39;00m allow_redirects:\n\u001b[0;32m    722\u001b[0m     \u001b[38;5;66;03m# Redirect resolving generator.\u001b[39;00m\n\u001b[0;32m    723\u001b[0m     gen \u001b[38;5;241m=\u001b[39m \u001b[38;5;28mself\u001b[39m\u001b[38;5;241m.\u001b[39mresolve_redirects(r, request, \u001b[38;5;241m*\u001b[39m\u001b[38;5;241m*\u001b[39mkwargs)\n\u001b[1;32m--> 724\u001b[0m     history \u001b[38;5;241m=\u001b[39m [resp \u001b[38;5;28;01mfor\u001b[39;00m resp \u001b[38;5;129;01min\u001b[39;00m gen]\n\u001b[0;32m    725\u001b[0m \u001b[38;5;28;01melse\u001b[39;00m:\n\u001b[0;32m    726\u001b[0m     history \u001b[38;5;241m=\u001b[39m []\n",
      "File \u001b[1;32mC:\\ProgramData\\anaconda3\\Lib\\site-packages\\requests\\sessions.py:265\u001b[0m, in \u001b[0;36mSessionRedirectMixin.resolve_redirects\u001b[1;34m(self, resp, req, stream, timeout, verify, cert, proxies, yield_requests, **adapter_kwargs)\u001b[0m\n\u001b[0;32m    263\u001b[0m     \u001b[38;5;28;01myield\u001b[39;00m req\n\u001b[0;32m    264\u001b[0m \u001b[38;5;28;01melse\u001b[39;00m:\n\u001b[1;32m--> 265\u001b[0m     resp \u001b[38;5;241m=\u001b[39m \u001b[38;5;28mself\u001b[39m\u001b[38;5;241m.\u001b[39msend(\n\u001b[0;32m    266\u001b[0m         req,\n\u001b[0;32m    267\u001b[0m         stream\u001b[38;5;241m=\u001b[39mstream,\n\u001b[0;32m    268\u001b[0m         timeout\u001b[38;5;241m=\u001b[39mtimeout,\n\u001b[0;32m    269\u001b[0m         verify\u001b[38;5;241m=\u001b[39mverify,\n\u001b[0;32m    270\u001b[0m         cert\u001b[38;5;241m=\u001b[39mcert,\n\u001b[0;32m    271\u001b[0m         proxies\u001b[38;5;241m=\u001b[39mproxies,\n\u001b[0;32m    272\u001b[0m         allow_redirects\u001b[38;5;241m=\u001b[39m\u001b[38;5;28;01mFalse\u001b[39;00m,\n\u001b[0;32m    273\u001b[0m         \u001b[38;5;241m*\u001b[39m\u001b[38;5;241m*\u001b[39madapter_kwargs,\n\u001b[0;32m    274\u001b[0m     )\n\u001b[0;32m    276\u001b[0m     extract_cookies_to_jar(\u001b[38;5;28mself\u001b[39m\u001b[38;5;241m.\u001b[39mcookies, prepared_request, resp\u001b[38;5;241m.\u001b[39mraw)\n\u001b[0;32m    278\u001b[0m     \u001b[38;5;66;03m# extract redirect url, if any, for the next loop\u001b[39;00m\n",
      "File \u001b[1;32mC:\\ProgramData\\anaconda3\\Lib\\site-packages\\requests\\sessions.py:703\u001b[0m, in \u001b[0;36mSession.send\u001b[1;34m(self, request, **kwargs)\u001b[0m\n\u001b[0;32m    700\u001b[0m start \u001b[38;5;241m=\u001b[39m preferred_clock()\n\u001b[0;32m    702\u001b[0m \u001b[38;5;66;03m# Send the request\u001b[39;00m\n\u001b[1;32m--> 703\u001b[0m r \u001b[38;5;241m=\u001b[39m adapter\u001b[38;5;241m.\u001b[39msend(request, \u001b[38;5;241m*\u001b[39m\u001b[38;5;241m*\u001b[39mkwargs)\n\u001b[0;32m    705\u001b[0m \u001b[38;5;66;03m# Total elapsed time of the request (approximately)\u001b[39;00m\n\u001b[0;32m    706\u001b[0m elapsed \u001b[38;5;241m=\u001b[39m preferred_clock() \u001b[38;5;241m-\u001b[39m start\n",
      "File \u001b[1;32mC:\\ProgramData\\anaconda3\\Lib\\site-packages\\requests\\adapters.py:698\u001b[0m, in \u001b[0;36mHTTPAdapter.send\u001b[1;34m(self, request, stream, timeout, verify, cert, proxies)\u001b[0m\n\u001b[0;32m    694\u001b[0m         \u001b[38;5;28;01mraise\u001b[39;00m ProxyError(e, request\u001b[38;5;241m=\u001b[39mrequest)\n\u001b[0;32m    696\u001b[0m     \u001b[38;5;28;01mif\u001b[39;00m \u001b[38;5;28misinstance\u001b[39m(e\u001b[38;5;241m.\u001b[39mreason, _SSLError):\n\u001b[0;32m    697\u001b[0m         \u001b[38;5;66;03m# This branch is for urllib3 v1.22 and later.\u001b[39;00m\n\u001b[1;32m--> 698\u001b[0m         \u001b[38;5;28;01mraise\u001b[39;00m SSLError(e, request\u001b[38;5;241m=\u001b[39mrequest)\n\u001b[0;32m    700\u001b[0m     \u001b[38;5;28;01mraise\u001b[39;00m \u001b[38;5;167;01mConnectionError\u001b[39;00m(e, request\u001b[38;5;241m=\u001b[39mrequest)\n\u001b[0;32m    702\u001b[0m \u001b[38;5;28;01mexcept\u001b[39;00m ClosedPoolError \u001b[38;5;28;01mas\u001b[39;00m e:\n",
      "\u001b[1;31mSSLError\u001b[0m: HTTPSConnectionPool(host='weixin.iszhouhua.com', port=443): Max retries exceeded with url: /article/search?keyword=%E5%8E%9F%E5%88%9B&page=1 (Caused by SSLError(CertificateError(\"hostname 'weixin.iszhouhua.com' doesn't match either of 'iszhouhua.com', 'www.iszhouhua.com'\")))"
     ]
    }
   ],
   "source": [
    "import requests\n",
    "\n",
    "url = 'http://weixin.iszhouhua.com/article/search'\n",
    "params = {\n",
    "    'keyword': '原创',\n",
    "    'page': 1\n",
    "}\n",
    "headers = {\n",
    "    'accept': 'application/json'\n",
    "}\n",
    "\n",
    "response = requests.get(url, params=params, headers=headers)\n",
    "\n",
    "# Print the response (for demonstration purposes)\n",
    "print(response.json())\n"
   ]
  },
  {
   "cell_type": "code",
   "execution_count": 17,
   "id": "fe714c04",
   "metadata": {},
   "outputs": [],
   "source": [
    "#功能：详细梳理代码库\n",
    "#唯一参数\n",
    "root_directory =  r'C:\\Users\\Administrator\\Downloads\\Humpback-Whale-Identification-master\\Humpback-Whale-Identification-master'\n",
    "import os\n",
    "\n",
    "def merge_files_in_directory(directory):\n",
    "    merged_code = \"\"\n",
    "    for filename in os.listdir(directory):\n",
    "        filepath = os.path.join(directory, filename)\n",
    "        if os.path.isfile(filepath) and filepath.endswith(\".py\"):\n",
    "            with open(filepath, \"r\", encoding=\"utf-8\") as file:\n",
    "                file_content = file.read()\n",
    "                merged_code += f\"# {filename}\\n\\n{file_content}\\n\\n\"\n",
    "        elif os.path.isdir(filepath):\n",
    "            merged_code += f\"# {filename} (Directory)\\n\\n\"\n",
    "            merged_code += merge_files_in_directory(filepath)\n",
    "        elif os.path.isfile(filepath) and filepath.endswith(\".ipynb\"):\n",
    "            import json\n",
    "            with open(filepath,encoding='utf-8') as f:\n",
    "                data = json.load(f)\n",
    "            file_content=''.join([''.join(cell['source']) for cell in data['cells']])      \n",
    "            merged_code += f\"# {filename}\\n\\n{file_content}\\n\\n\"\n",
    "\n",
    "    return merged_code\n",
    "\n",
    "def merge_codebase(root_directory):\n",
    "    merged_codebase = \"\"\n",
    "    for subdir in os.listdir(root_directory):\n",
    "        subdir_path = os.path.join(root_directory, subdir)\n",
    "        if os.path.isdir(subdir_path):\n",
    "            merged_codebase += f\"# {subdir}\\n\\n\"\n",
    "            merged_codebase += merge_files_in_directory(subdir_path)\n",
    "\n",
    "    return merged_codebase\n",
    "\n",
    "result = merge_codebase(root_directory)\n",
    "\n",
    "print(result)\n",
    "\n",
    "\"\"\"将代码合并到1个python文件使得跑这个python文件就可以完全跑通，尤其注意：这样本是一个代码库，含有内部文件的import，代码库合并到1个文件后这些内部的py文件的import就需要取消，而是把其中的函数合并到整合的文件中，而且整合后“代码库python文件名.函数名”应该改成“函数名”。\n",
    "\n",
    "给出新整合版单个python文件的完整代码，相比于原代码库，禁止细节逻辑的遗漏。禁止省略号\"\"\""
   ]
  },
  {
   "cell_type": "code",
   "execution_count": null,
   "id": "55c43ed5",
   "metadata": {},
   "outputs": [],
   "source": []
  },
  {
   "cell_type": "code",
   "execution_count": null,
   "id": "e511c4a0",
   "metadata": {},
   "outputs": [],
   "source": []
  },
  {
   "cell_type": "code",
   "execution_count": null,
   "id": "30e646f6",
   "metadata": {},
   "outputs": [],
   "source": []
  }
 ],
 "metadata": {
  "kernelspec": {
   "display_name": "Python 3 (ipykernel)",
   "language": "python",
   "name": "python3"
  },
  "language_info": {
   "codemirror_mode": {
    "name": "ipython",
    "version": 3
   },
   "file_extension": ".py",
   "mimetype": "text/x-python",
   "name": "python",
   "nbconvert_exporter": "python",
   "pygments_lexer": "ipython3",
   "version": "3.11.5"
  }
 },
 "nbformat": 4,
 "nbformat_minor": 5
}
